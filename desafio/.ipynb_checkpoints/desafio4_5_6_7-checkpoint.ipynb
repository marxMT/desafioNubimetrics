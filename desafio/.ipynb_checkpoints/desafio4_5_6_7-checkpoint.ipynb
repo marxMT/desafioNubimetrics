{
 "cells": [
  {
   "cell_type": "code",
   "execution_count": 23,
   "id": "c97cd7bc-f641-42f0-a626-bd00c88867de",
   "metadata": {},
   "outputs": [],
   "source": [
    "import pandas as pd\n",
    "import numpy as np\n",
    "import json"
   ]
  },
  {
   "cell_type": "markdown",
   "id": "20bd7170-ca2f-429c-a6ea-dffb8742eea5",
   "metadata": {},
   "source": [
    "# Desafio 4"
   ]
  },
  {
   "cell_type": "code",
   "execution_count": 24,
   "id": "d34fb106-38c5-4683-8913-260a4fd4bc05",
   "metadata": {},
   "outputs": [],
   "source": [
    "def read_json(file):\n",
    "    with open(file) as f:\n",
    "        data = json.load(f)\n",
    "    return data\n",
    "\n",
    "def generate_df_required(data):\n",
    "    record_path = ['results']\n",
    "    df_structs = pd.json_normalize(data, record_path=['results'], errors='ignore', sep='-')\n",
    "    columns = ['id','sold_quantity','available_quantity']\n",
    "    df_structs = df_structs[columns]\n",
    "    df_structs.columns = ['itemId','soldQuantity', 'availableQuantity']\n",
    "    df_structs.insert(0,\"rowId\",np.arange(1,df_structs.shape[0]+1), True)\n",
    "    return df_structs"
   ]
  },
  {
   "cell_type": "code",
   "execution_count": 25,
   "id": "30b1f094-85f5-47f4-82b2-75742781b197",
   "metadata": {},
   "outputs": [],
   "source": [
    "file = 'data/MPE1004.json'\n",
    "data = read_json(file)\n",
    "df_structs = generate_df_required(data)\n"
   ]
  },
  {
   "cell_type": "code",
   "execution_count": 42,
   "id": "68d80cfb-c2af-44d4-ade5-3355c96774d9",
   "metadata": {},
   "outputs": [],
   "source": [
    "df_structs.head()"
   ]
  },
  {
   "cell_type": "markdown",
   "id": "78dcc288-2fdf-4a86-a96a-cc3988e361b5",
   "metadata": {},
   "source": [
    "# Desafio 5"
   ]
  },
  {
   "cell_type": "code",
   "execution_count": 32,
   "id": "500bb94e-35e9-4b8d-8196-efa92a24e6d8",
   "metadata": {},
   "outputs": [],
   "source": [
    "def visitas_df(file, df_desafio4):\n",
    "    df_visits = pd.read_csv(file)\n",
    "    df_structs_short = df_desafio4[['itemId','soldQuantity']]\n",
    "    df_structs_visits = pd.merge(left=df_structs_short,right=df_visits, left_on='itemId', right_on='itemId')\n",
    "    df_structs_visits = df_structs_visits[df_structs_visits['soldQuantity']!= 0]\n",
    "    return df_structs_visits"
   ]
  },
  {
   "cell_type": "code",
   "execution_count": 33,
   "id": "9a471321-98c4-44d2-abdb-f371c16dafa7",
   "metadata": {},
   "outputs": [],
   "source": [
    "file = 'data/visits.csv'\n",
    "df_visitas = visitas_df(file,df_structs)"
   ]
  },
  {
   "cell_type": "markdown",
   "id": "3943adcf-c4cd-46bd-844e-39c4b842fa50",
   "metadata": {},
   "source": [
    "# Desafio 6"
   ]
  },
  {
   "cell_type": "code",
   "execution_count": 36,
   "id": "9e265da9-2704-42e7-9c23-bbae04407e08",
   "metadata": {},
   "outputs": [],
   "source": [
    "def conversion_ranking(df_desafio5):\n",
    "    df_conversion_ranking = df_desafio5\n",
    "    df_conversion_ranking = df_conversion_ranking.assign(conversionRate= lambda x:round(x['soldQuantity']/x['visits'],4)).sort_values('conversionRate',ascending=False)\n",
    "    df_conversion_ranking.insert(4,'conversionRanking',np.arange(1,df_conversion_ranking.shape[0]+1), True)\n",
    "    return df_conversion_ranking"
   ]
  },
  {
   "cell_type": "code",
   "execution_count": 37,
   "id": "7ff9b517-b38b-497b-a2e1-852503d7148f",
   "metadata": {},
   "outputs": [],
   "source": [
    "df_conversion_ranking =conversion_ranking(df_visitas)\n",
    "df_conversion_ranking.head()"
   ]
  },
  {
   "cell_type": "markdown",
   "id": "e3ccfeaf-c13f-45f8-82b5-a30fed900eed",
   "metadata": {},
   "source": [
    "# Desafio 7"
   ]
  },
  {
   "cell_type": "code",
   "execution_count": 51,
   "id": "0f58f3b2-bee6-4da0-8edc-bcd8b9393ec2",
   "metadata": {},
   "outputs": [],
   "source": [
    "def porcentaje(df_desafio4):\n",
    "    df_porcentaje = df_desafio4[['itemId','availableQuantity']]\n",
    "    total = df_porcentaje['availableQuantity'].sum()\n",
    "    df_porcentaje['stockPercentage'] =df_porcentaje['availableQuantity'].apply(lambda x:round(x/total * 100,2))\n",
    "    df_porcentaje = df_porcentaje.sort_values(['availableQuantity','itemId'],ascending=False)\n",
    "    return df_porcentaje"
   ]
  },
  {
   "cell_type": "code",
   "execution_count": 52,
   "id": "37985c63-2fda-4e70-8b74-da72d3c80854",
   "metadata": {},
   "outputs": [
    {
     "name": "stderr",
     "output_type": "stream",
     "text": [
      "/home/sarge/.local/lib/python3.8/site-packages/pandas/core/frame.py:3607: SettingWithCopyWarning: \n",
      "A value is trying to be set on a copy of a slice from a DataFrame.\n",
      "Try using .loc[row_indexer,col_indexer] = value instead\n",
      "\n",
      "See the caveats in the documentation: https://pandas.pydata.org/pandas-docs/stable/user_guide/indexing.html#returning-a-view-versus-a-copy\n",
      "  self._set_item(key, value)\n"
     ]
    }
   ],
   "source": [
    "df_porcentaje  = porcentaje(df_structs)"
   ]
  },
  {
   "cell_type": "code",
   "execution_count": 55,
   "id": "3eb61f1a-ea1f-48e8-82ea-b803d0e8bda9",
   "metadata": {},
   "outputs": [],
   "source": [
    "df_porcentaje.head()"
   ]
  },
  {
   "cell_type": "code",
   "execution_count": null,
   "id": "0af5646c-2d47-4c53-803f-5e33a49fb7d5",
   "metadata": {},
   "outputs": [],
   "source": []
  }
 ],
 "metadata": {
  "kernelspec": {
   "display_name": "Python 3 (ipykernel)",
   "language": "python",
   "name": "python3"
  },
  "language_info": {
   "codemirror_mode": {
    "name": "ipython",
    "version": 3
   },
   "file_extension": ".py",
   "mimetype": "text/x-python",
   "name": "python",
   "nbconvert_exporter": "python",
   "pygments_lexer": "ipython3",
   "version": "3.8.10"
  }
 },
 "nbformat": 4,
 "nbformat_minor": 5
}
